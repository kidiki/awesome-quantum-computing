{
  "nbformat": 4,
  "nbformat_minor": 0,
  "metadata": {
    "colab": {
      "provenance": [],
      "authorship_tag": "ABX9TyNpN7TJNW5+GM6mJp+ECxJD",
      "include_colab_link": true
    },
    "kernelspec": {
      "name": "python3",
      "display_name": "Python 3"
    },
    "language_info": {
      "name": "python"
    }
  },
  "cells": [
    {
      "cell_type": "markdown",
      "metadata": {
        "id": "view-in-github",
        "colab_type": "text"
      },
      "source": [
        "<a href=\"https://colab.research.google.com/github/kidiki/awesome-quantum-computing/blob/master/SIC_POVMs.ipynb\" target=\"_parent\"><img src=\"https://colab.research.google.com/assets/colab-badge.svg\" alt=\"Open In Colab\"/></a>"
      ]
    },
    {
      "cell_type": "code",
      "execution_count": 1,
      "metadata": {
        "id": "2FnvEAWcEVcM"
      },
      "outputs": [],
      "source": [
        "import numpy as np"
      ]
    },
    {
      "cell_type": "code",
      "source": [
        "def check_if_valid_extension(d, U, SIC_vectors, psi=None):\n",
        "  state_0 = np.zeros(d)[..., None]\n",
        "  state_0[0] = 1\n",
        "  if psi is None:\n",
        "    v = np.array(np.random.rand(d))[..., None]  # or .reshape(-1,1)\n",
        "    v_hat = v / np.linalg.norm(v)\n",
        "  else:\n",
        "    v = psi\n",
        "  mod_state = U@(np.kron(state_0, v_hat))\n",
        "  #mod_state = U@(np.kron(v_hat, state_0_qutrit)) # Tabea for d=3\n",
        "  probs = np.abs(mod_state)**2\n",
        "\n",
        "  return np.all([np.isclose(d*probs[i], np.abs(v_hat.reshape(1,-1)@SIC_vectors[i])**2) for i in range(d**2)]) or np.all([np.isclose(d*(np.abs(U@(np.kron(v_hat, state_0_qutrit)))**2)[i], np.abs(v_hat.reshape(1,-1)@SIC_vectors[i])**2) for i in range(d**2)])"
      ],
      "metadata": {
        "id": "XGMi4RBwi92s"
      },
      "execution_count": 2,
      "outputs": []
    },
    {
      "cell_type": "code",
      "source": [
        "def create_orthogonal_vector(v):\n",
        "    # Normalize the input vector\n",
        "    v = v / np.linalg.norm(v)\n",
        "\n",
        "    # Choose a vector not parallel to v (we use a real vector here for simplicity)\n",
        "    if abs(v[0]) < abs(v[1]):\n",
        "        u = np.array([[1], [0], [0]], dtype=complex)\n",
        "    else:\n",
        "        u = np.array([[0], [1], [0]], dtype=complex)\n",
        "\n",
        "    # Use the cross product, accounting for complex numbers\n",
        "    orthogonal_vector = np.cross(v.ravel(), u.ravel()).reshape(-1, 1)\n",
        "\n",
        "    # Check if the result is orthogonal; if not, select a different initial vector `u`\n",
        "    if np.isclose(np.vdot(v, orthogonal_vector), 0):\n",
        "        orthogonal_vector = orthogonal_vector / np.linalg.norm(orthogonal_vector)\n",
        "    else:\n",
        "        # If it's not orthogonal, try a different choice for `u`\n",
        "        u = np.array([[0], [0], [1]], dtype=complex)\n",
        "        orthogonal_vector = np.cross(v.ravel(), u.ravel()).reshape(-1, 1)\n",
        "        orthogonal_vector = orthogonal_vector / np.linalg.norm(orthogonal_vector)\n",
        "\n",
        "    return orthogonal_vector\n",
        "\n",
        "# Define phi_1 with complex numbers\n",
        "phi_1 = 1 / np.sqrt(2) * np.array([[0], [1 + 1j], [-1]], dtype=complex)\n",
        "\n",
        "# Create orthogonal vector\n",
        "phi_2 = create_orthogonal_vector(phi_1)"
      ],
      "metadata": {
        "id": "zhZJTAODxXSg"
      },
      "execution_count": 3,
      "outputs": []
    },
    {
      "cell_type": "markdown",
      "source": [
        "## d = 2"
      ],
      "metadata": {
        "id": "qBbexOl94_6u"
      }
    },
    {
      "cell_type": "code",
      "source": [
        "state_0 = np.array([[1],\n",
        "                    [0]])\n",
        "\n",
        "psi_1 = np.array([[1],\n",
        "                  [0]])\n",
        "psi_2 = 1/np.sqrt(3)*np.array([[1],\n",
        "                               [np.sqrt(2)]])\n",
        "psi_3 = 1/np.sqrt(3)*np.array([[1],\n",
        "                               [np.sqrt(2)*np.exp(1j*2*np.pi/3)]])\n",
        "psi_4 = 1/np.sqrt(3)*np.array([[1],\n",
        "                               [np.sqrt(2)*np.exp(1j*4*np.pi/3)]])\n",
        "all_psi = np.array([psi_1, psi_2, psi_3, psi_4])"
      ],
      "metadata": {
        "id": "cazSwJV2Ffsn"
      },
      "execution_count": 4,
      "outputs": []
    },
    {
      "cell_type": "code",
      "source": [
        "U_exp = 1/np.sqrt(2)*np.array([[1, 0, 0, 1],\n",
        "                               [1/np.sqrt(3), np.sqrt(2)/np.sqrt(3), np.sqrt(2)/np.sqrt(3), -1/np.sqrt(3)],\n",
        "                               [1/np.sqrt(3), np.exp(1j*2*np.pi/3)*np.sqrt(2)/np.sqrt(3), np.exp(1j*4*np.pi/3)*np.sqrt(2)/np.sqrt(3), -1/np.sqrt(3)],\n",
        "                               [1/np.sqrt(3), np.exp(1j*4*np.pi/3)*np.sqrt(2)/np.sqrt(3), np.exp(1j*2*np.pi/3)*np.sqrt(2)/np.sqrt(3), -1/np.sqrt(3)]])"
      ],
      "metadata": {
        "id": "vmA3MXed469x"
      },
      "execution_count": 5,
      "outputs": []
    },
    {
      "cell_type": "code",
      "source": [
        "check_if_valid_extension(d=2, U=U_exp, SIC_vectors=all_psi, psi=None)"
      ],
      "metadata": {
        "colab": {
          "base_uri": "https://localhost:8080/"
        },
        "id": "lFvIkBYKiEu1",
        "outputId": "a2d94525-57dc-4e18-8b5c-d8e3fb1aefbd"
      },
      "execution_count": 6,
      "outputs": [
        {
          "output_type": "execute_result",
          "data": {
            "text/plain": [
              "True"
            ]
          },
          "metadata": {},
          "execution_count": 6
        }
      ]
    },
    {
      "cell_type": "markdown",
      "source": [
        "Tabia:"
      ],
      "metadata": {
        "id": "Rk3Cul7w48op"
      }
    },
    {
      "cell_type": "code",
      "source": [
        "U = 1/np.sqrt(6)*np.array([[np.sqrt(3), 1, np.exp(1j*np.pi/3), np.exp(-1j*np.pi/3)],\n",
        "                           [0, np.sqrt(2), np.sqrt(2)*np.exp(-1j*np.pi/3), np.sqrt(2)*np.exp(1j*np.pi/3)],\n",
        "                           [np.sqrt(3), -1, -np.exp(1j*np.pi/3), -np.exp(-1j*np.pi/3)],\n",
        "                           [0, np.sqrt(2), -np.sqrt(2), -np.sqrt(2)]])\n",
        "U_dag = U.conj().T"
      ],
      "metadata": {
        "id": "1P4eyrQSEWva"
      },
      "execution_count": 7,
      "outputs": []
    },
    {
      "cell_type": "code",
      "source": [
        "check_if_valid_extension(d=2, U=U_dag, SIC_vectors=all_psi, psi=None)"
      ],
      "metadata": {
        "colab": {
          "base_uri": "https://localhost:8080/"
        },
        "id": "u1-Is2c9jFii",
        "outputId": "033e6fd0-1070-41c1-9c9d-076c994bfebb"
      },
      "execution_count": 8,
      "outputs": [
        {
          "output_type": "execute_result",
          "data": {
            "text/plain": [
              "True"
            ]
          },
          "metadata": {},
          "execution_count": 8
        }
      ]
    },
    {
      "cell_type": "markdown",
      "source": [
        "## d=3"
      ],
      "metadata": {
        "id": "B6kw55s7qJ4y"
      }
    },
    {
      "cell_type": "code",
      "source": [
        "state_0_qutrit = np.array([[1],\n",
        "                           [0],\n",
        "                           [0]\n",
        "                           ])\n",
        "\n",
        "q = np.exp(1j*2*np.pi/3)\n",
        "\n",
        "phi_1 = 1/np.sqrt(2)*np.array([[0],\n",
        "                  [1],\n",
        "                  [-1]\n",
        "                  ])\n",
        "phi_2 = 1/np.sqrt(2)*np.array([[0],\n",
        "                  [q],\n",
        "                  [-q**2]\n",
        "                  ])\n",
        "phi_3 = 1/np.sqrt(2)*np.array([[0],\n",
        "                  [q**2],\n",
        "                  [-q]\n",
        "                  ])\n",
        "phi_4 = 1/np.sqrt(2)*np.array([[-1],\n",
        "                               [0],\n",
        "                               [1]\n",
        "                               ])\n",
        "phi_5 = 1/np.sqrt(2)*np.array([[-q**2],\n",
        "                               [0],\n",
        "                               [q]\n",
        "                               ])\n",
        "phi_6 = 1/np.sqrt(2)*np.array([[-q],\n",
        "                               [0],\n",
        "                               [q**2]\n",
        "                               ])\n",
        "phi_7 = 1/np.sqrt(2)*np.array([[1],\n",
        "                               [-1],\n",
        "                               [0]\n",
        "                               ])\n",
        "phi_8 = 1/np.sqrt(2)*np.array([[q],\n",
        "                               [-q**2],\n",
        "                               [0]\n",
        "                               ])\n",
        "phi_9 = 1/np.sqrt(2)*np.array([[q**2],\n",
        "                               [-q],\n",
        "                               [0]\n",
        "                               ])\n",
        "\n",
        "#all_phi = np.array([phi_1.T, phi_2.T, phi_3.T, phi_4.T, phi_5.T, phi_6.T, phi_7.T, phi_8.T, phi_9.T,]).reshape(9, 3)\n",
        "all_phi = np.array([phi_1, phi_2, phi_3, phi_4, phi_5, phi_6, phi_7, phi_8, phi_9]).reshape(9, 3)"
      ],
      "metadata": {
        "id": "iK0x8NQHJOQ1"
      },
      "execution_count": 9,
      "outputs": []
    },
    {
      "cell_type": "code",
      "source": [
        "U_Tabia = np.zeros((9, 9), dtype=complex)\n",
        "\n",
        "U_Tabia = 1/np.sqrt(6)*np.array([[0, 0, 0, -1, -q**2, -q, 1, q, q**2],\n",
        "                              [np.sqrt(2), np.sqrt(2), np.sqrt(2), 0, 0, 0, 0, 0, 0],\n",
        "                              [1, q**2, q, 1, q, q**2, 0, 0, 0],\n",
        "                              [1, q, q**2, 0, 0, 0, -1, -q**2, -q],\n",
        "                              [0, 0, 0, np.sqrt(2), np.sqrt(2), np.sqrt(2), 0, 0, 0],\n",
        "                              [0, 0, 0, 1, q**2, q, 1, q, q**2],\n",
        "                              [-1, -q**2, -q, 1, q, q**2, 0, 0, 0],\n",
        "                              [0, 0, 0, 0, 0, 0, np.sqrt(2), np.sqrt(2), np.sqrt(2)],\n",
        "                              [1, q, q**2, 0, 0, 0, 1, q**2, q]\n",
        "                              ])\n",
        "U_Tabia_dag = U_Tabia.conj().T"
      ],
      "metadata": {
        "id": "xJzCXJ8mk17I"
      },
      "execution_count": 10,
      "outputs": []
    },
    {
      "cell_type": "code",
      "source": [
        "check_if_valid_extension(d=3, U=U_Tabia_dag, SIC_vectors=all_phi, psi=None)"
      ],
      "metadata": {
        "colab": {
          "base_uri": "https://localhost:8080/"
        },
        "id": "KcMWSEp7N2c6",
        "outputId": "ab7ab03b-6cd0-4b32-ac3d-cb843ece9ac0"
      },
      "execution_count": 11,
      "outputs": [
        {
          "output_type": "execute_result",
          "data": {
            "text/plain": [
              "True"
            ]
          },
          "metadata": {},
          "execution_count": 11
        }
      ]
    },
    {
      "cell_type": "code",
      "source": [],
      "metadata": {
        "id": "OW-e6VnfUvo9"
      },
      "execution_count": 11,
      "outputs": []
    },
    {
      "cell_type": "markdown",
      "source": [
        "### Trying to construct a matrix with orthogonal entries which is Unitary and valid.\n",
        "Spoiler: it's valid, but not unitary :("
      ],
      "metadata": {
        "id": "Zi-GOwbGUw_9"
      }
    },
    {
      "cell_type": "code",
      "source": [
        "all_phi_perb = np.array([create_orthogonal_vector(vect) for vect in all_phi]).reshape(9, 3)\n",
        "all_phi_perb_2 = np.array([create_orthogonal_vector(vect) for vect in all_phi_perb]).reshape(9, 3)"
      ],
      "metadata": {
        "id": "t-1QFKDQWkCq"
      },
      "execution_count": 12,
      "outputs": []
    },
    {
      "cell_type": "code",
      "source": [
        "U_new = (1/np.sqrt(3))*np.concatenate((np.concatenate((all_phi, all_phi_perb), axis=1), all_phi_perb_2), axis=1)\n"
      ],
      "metadata": {
        "id": "so-zxhsrXmDs"
      },
      "execution_count": 13,
      "outputs": []
    },
    {
      "cell_type": "code",
      "source": [
        "check_if_valid_extension(d=3, U=U_new, SIC_vectors=all_phi, psi=None)"
      ],
      "metadata": {
        "id": "uu8U1-Fqbaxr",
        "colab": {
          "base_uri": "https://localhost:8080/"
        },
        "outputId": "97e28b9f-eab9-4412-f66b-9a8bf7d18d86"
      },
      "execution_count": 14,
      "outputs": [
        {
          "output_type": "execute_result",
          "data": {
            "text/plain": [
              "True"
            ]
          },
          "metadata": {},
          "execution_count": 14
        }
      ]
    },
    {
      "cell_type": "code",
      "source": [
        "#Check if unitary:\n",
        "np.allclose(np.round(U_new @ U_new.conj().T - np.eye(9)), 0)"
      ],
      "metadata": {
        "colab": {
          "base_uri": "https://localhost:8080/"
        },
        "id": "BolnS3M07E3g",
        "outputId": "174d2bf1-208a-44a3-e034-b630e23ef26f"
      },
      "execution_count": 15,
      "outputs": [
        {
          "output_type": "execute_result",
          "data": {
            "text/plain": [
              "False"
            ]
          },
          "metadata": {},
          "execution_count": 15
        }
      ]
    }
  ]
}